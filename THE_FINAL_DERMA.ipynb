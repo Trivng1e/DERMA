{
  "cells": [
    {
      "cell_type": "markdown",
      "metadata": {
        "id": "view-in-github",
        "colab_type": "text"
      },
      "source": [
        "<a href=\"https://colab.research.google.com/github/Trivng1e/D.E.R.M.A./blob/main/THE_FINAL_DERMA.ipynb\" target=\"_parent\"><img src=\"https://colab.research.google.com/assets/colab-badge.svg\" alt=\"Open In Colab\"/></a>"
      ]
    },
    {
      "cell_type": "code",
      "execution_count": null,
      "metadata": {
        "id": "iXUS06IFmvva"
      },
      "outputs": [],
      "source": [
        "import numpy as np\n",
        "import PIL\n",
        "import tensorflow as tf\n",
        "\n",
        "import os\n",
        "\n",
        "os.environ[\"TF_CPP_MIN_LOG_LEVEL\"] = \"2\"\n",
        "\n",
        "from tensorflow import keras\n",
        "from keras import layers, models\n",
        "from keras.preprocessing.image import ImageDataGenerator\n",
        "from keras.models import Sequential\n",
        "from sys import getsizeof"
      ]
    },
    {
      "cell_type": "code",
      "execution_count": null,
      "metadata": {
        "id": "1KJoVzFJmzti"
      },
      "outputs": [],
      "source": [
        "img_width = 128\n",
        "img_height = 128\n",
        "batch_size = 128"
      ]
    },
    {
      "cell_type": "code",
      "execution_count": null,
      "metadata": {
        "colab": {
          "base_uri": "https://localhost:8080/"
        },
        "id": "oH9TfJwhmzzL",
        "outputId": "3f401281-5984-4cdb-ca9d-2d6564b6ec89"
      },
      "outputs": [
        {
          "output_type": "stream",
          "name": "stdout",
          "text": [
            "Found 2574 files belonging to 3 classes.\n",
            "Found 744 files belonging to 3 classes.\n"
          ]
        }
      ],
      "source": [
        "train_images = tf.keras.preprocessing.image_dataset_from_directory(\n",
        "    '/content/drive/MyDrive/DERMNET/Train/',\n",
        "    labels='inferred',\n",
        "    label_mode = \"categorical\", \n",
        "    color_mode='rgb',\n",
        "    batch_size= batch_size,\n",
        "    image_size=(img_height,img_width),\n",
        "    shuffle=True,\n",
        "    seed=123,\n",
        ")\n",
        "\n",
        "test_images = tf.keras.preprocessing.image_dataset_from_directory(\n",
        "    '/content/drive/MyDrive/DERMNET/Test/',\n",
        "    labels=\"inferred\",\n",
        "    label_mode = \"categorical\", \n",
        "    color_mode=\"rgb\",\n",
        "    batch_size=batch_size,\n",
        "    image_size=(img_height,img_width),\n",
        "    shuffle=True,\n",
        "    seed=123,\n",
        ")"
      ]
    },
    {
      "cell_type": "code",
      "execution_count": null,
      "metadata": {
        "colab": {
          "base_uri": "https://localhost:8080/"
        },
        "id": "yJHFFtQxm0Qo",
        "outputId": "04716f9c-6f3a-470b-ce50-772838883d5a"
      },
      "outputs": [
        {
          "output_type": "stream",
          "name": "stderr",
          "text": [
            "WARNING:tensorflow:Using a while_loop for converting RngReadAndSkip cause there is no registered converter for this op.\n",
            "WARNING:tensorflow:Using a while_loop for converting Bitcast cause there is no registered converter for this op.\n",
            "WARNING:tensorflow:Using a while_loop for converting Bitcast cause there is no registered converter for this op.\n",
            "WARNING:tensorflow:Using a while_loop for converting StatelessRandomUniformV2 cause there is no registered converter for this op.\n",
            "WARNING:tensorflow:Using a while_loop for converting ImageProjectiveTransformV3 cause there is no registered converter for this op.\n",
            "WARNING:tensorflow:Using a while_loop for converting RngReadAndSkip cause there is no registered converter for this op.\n",
            "WARNING:tensorflow:Using a while_loop for converting Bitcast cause there is no registered converter for this op.\n",
            "WARNING:tensorflow:Using a while_loop for converting Bitcast cause there is no registered converter for this op.\n",
            "WARNING:tensorflow:Using a while_loop for converting StatelessRandomUniformV2 cause there is no registered converter for this op.\n",
            "WARNING:tensorflow:Using a while_loop for converting ImageProjectiveTransformV3 cause there is no registered converter for this op.\n"
          ]
        }
      ],
      "source": [
        "data_augmentation = keras.Sequential(\n",
        "  [\n",
        "    layers.RandomFlip(\"horizontal\",\n",
        "                      input_shape=(img_height,\n",
        "                                  img_width,\n",
        "                                  3)),\n",
        "    layers.RandomRotation(0.1),\n",
        "    layers.RandomZoom(0.1),\n",
        "  ] \n",
        ")"
      ]
    },
    {
      "cell_type": "code",
      "execution_count": null,
      "metadata": {
        "id": "jr0aUOYTmz7x"
      },
      "outputs": [],
      "source": [
        "model = models.Sequential()\n",
        "model.add(keras.Input(shape = (128,128, 3)))\n",
        "model.add(layers.Conv2D(32, (3, 3), activation='relu'))\n",
        "model.add(layers.MaxPooling2D((2, 2)))\n",
        "model.add(layers.Conv2D(64, (3, 3), activation='relu'))\n",
        "model.add(layers.MaxPooling2D((2, 2)))\n",
        "model.add(layers.Conv2D(64, (3, 3), activation='relu'))\n",
        "model.add(layers.Flatten())\n",
        "model.add(layers.Dense(64, activation='relu'))\n",
        "model.add(layers.Dense(3))"
      ]
    },
    {
      "cell_type": "code",
      "source": [
        "model.summary()"
      ],
      "metadata": {
        "id": "LwWEFNPW1aBw",
        "outputId": "5c16dfcc-e321-42a9-cfdf-f31a082a0100",
        "colab": {
          "base_uri": "https://localhost:8080/"
        }
      },
      "execution_count": null,
      "outputs": [
        {
          "output_type": "stream",
          "name": "stdout",
          "text": [
            "Model: \"sequential_1\"\n",
            "_________________________________________________________________\n",
            " Layer (type)                Output Shape              Param #   \n",
            "=================================================================\n",
            " conv2d (Conv2D)             (None, 126, 126, 32)      896       \n",
            "                                                                 \n",
            " max_pooling2d (MaxPooling2D  (None, 63, 63, 32)       0         \n",
            " )                                                               \n",
            "                                                                 \n",
            " conv2d_1 (Conv2D)           (None, 61, 61, 64)        18496     \n",
            "                                                                 \n",
            " max_pooling2d_1 (MaxPooling  (None, 30, 30, 64)       0         \n",
            " 2D)                                                             \n",
            "                                                                 \n",
            " conv2d_2 (Conv2D)           (None, 28, 28, 64)        36928     \n",
            "                                                                 \n",
            " flatten (Flatten)           (None, 50176)             0         \n",
            "                                                                 \n",
            " dense (Dense)               (None, 64)                3211328   \n",
            "                                                                 \n",
            " dense_1 (Dense)             (None, 3)                 195       \n",
            "                                                                 \n",
            "=================================================================\n",
            "Total params: 3,267,843\n",
            "Trainable params: 3,267,843\n",
            "Non-trainable params: 0\n",
            "_________________________________________________________________\n"
          ]
        }
      ]
    },
    {
      "cell_type": "code",
      "execution_count": null,
      "metadata": {
        "id": "xgnnpd1gm0HP"
      },
      "outputs": [],
      "source": [
        "model.compile(optimizer='adam',\n",
        "              loss=tf.keras.losses.CategoricalCrossentropy(from_logits=True),\n",
        "              metrics=['accuracy'])"
      ]
    },
    {
      "cell_type": "code",
      "execution_count": null,
      "metadata": {
        "colab": {
          "base_uri": "https://localhost:8080/"
        },
        "id": "fssHTyBRm0KH",
        "outputId": "3cef31b5-beea-4110-c7d8-97bc52bf51c9"
      },
      "outputs": [
        {
          "name": "stdout",
          "output_type": "stream",
          "text": [
            "Epoch 1/10\n",
            "21/21 [==============================] - 429s 15s/step - loss: 123.0779 - accuracy: 0.4099 - val_loss: 0.9721 - val_accuracy: 0.4839\n",
            "Epoch 2/10\n",
            "21/21 [==============================] - 103s 5s/step - loss: 0.8857 - accuracy: 0.5660 - val_loss: 0.9129 - val_accuracy: 0.5941\n",
            "Epoch 3/10\n",
            "21/21 [==============================] - 101s 5s/step - loss: 0.7486 - accuracy: 0.6721 - val_loss: 1.0295 - val_accuracy: 0.6156\n",
            "Epoch 4/10\n",
            "21/21 [==============================] - 98s 5s/step - loss: 0.6605 - accuracy: 0.7253 - val_loss: 0.8643 - val_accuracy: 0.6559\n",
            "Epoch 5/10\n",
            "21/21 [==============================] - 100s 5s/step - loss: 0.5413 - accuracy: 0.7723 - val_loss: 0.9401 - val_accuracy: 0.6317\n",
            "Epoch 6/10\n",
            "21/21 [==============================] - 102s 5s/step - loss: 0.4570 - accuracy: 0.8166 - val_loss: 1.0042 - val_accuracy: 0.6492\n",
            "Epoch 7/10\n",
            "21/21 [==============================] - 110s 5s/step - loss: 0.4069 - accuracy: 0.8318 - val_loss: 0.9632 - val_accuracy: 0.6868\n",
            "Epoch 8/10\n",
            "21/21 [==============================] - 104s 5s/step - loss: 0.3152 - accuracy: 0.8768 - val_loss: 1.2973 - val_accuracy: 0.6882\n",
            "Epoch 9/10\n",
            "21/21 [==============================] - 109s 5s/step - loss: 0.2842 - accuracy: 0.8858 - val_loss: 1.1666 - val_accuracy: 0.6935\n",
            "Epoch 10/10\n",
            "21/21 [==============================] - 110s 5s/step - loss: 0.2471 - accuracy: 0.9056 - val_loss: 1.1602 - val_accuracy: 0.7003\n"
          ]
        }
      ],
      "source": [
        "history = model.fit(\n",
        "    train_images, \n",
        "    epochs = 10, \n",
        "    batch_size = 128, \n",
        "    validation_data = test_images\n",
        "    )"
      ]
    },
    {
      "cell_type": "code",
      "execution_count": null,
      "metadata": {
        "id": "mEHjxXRvn_a2",
        "colab": {
          "base_uri": "https://localhost:8080/"
        },
        "outputId": "2ef4de65-4ffd-4592-9e45-6cc6603313ff"
      },
      "outputs": [
        {
          "output_type": "stream",
          "name": "stdout",
          "text": [
            "['Acne ', 'Atopic Dermatitis ', 'Eczema ']\n",
            "1/1 [==============================] - 0s 181ms/step\n",
            "This image most likely belongs to Acne  with a 75.50 percent confidence.\n"
          ]
        }
      ],
      "source": [
        "test_path = (\"/content/drive/MyDrive/Model/test1.jpg\")\n",
        "\n",
        "class_names = train_images.class_names\n",
        "print(class_names)\n",
        "\n",
        "img = tf.keras.utils.load_img(\n",
        "    test_path, target_size=(img_height, img_width)\n",
        ")\n",
        "img_array = tf.keras.utils.img_to_array(img)\n",
        "img_array = tf.expand_dims(img_array, 0) # Create a batch\n",
        "\n",
        "predictions = model.predict(img_array)\n",
        "score = tf.nn.softmax(predictions[0])\n",
        "\n",
        "print(\n",
        "    \"This image most likely belongs to {} with a {:.2f} percent confidence.\"\n",
        "    .format(class_names[np.argmax(score)], 100 * np.max(score))\n",
        ")"
      ]
    },
    {
      "cell_type": "code",
      "execution_count": null,
      "metadata": {
        "colab": {
          "base_uri": "https://localhost:8080/"
        },
        "id": "GBndNtmfe3tg",
        "outputId": "4cf7a26a-8fc3-4ec4-e23f-485fdb10d692"
      },
      "outputs": [
        {
          "output_type": "stream",
          "name": "stderr",
          "text": [
            "WARNING:absl:Found untraced functions such as _jit_compiled_convolution_op, _jit_compiled_convolution_op, _jit_compiled_convolution_op, _update_step_xla while saving (showing 4 of 4). These functions will not be directly callable after loading.\n"
          ]
        },
        {
          "output_type": "execute_result",
          "data": {
            "text/plain": [
              "3277112"
            ]
          },
          "metadata": {},
          "execution_count": 11
        }
      ],
      "source": [
        "# Convert the model.\n",
        "converter = tf.lite.TFLiteConverter.from_keras_model(model)\n",
        "converter.optimizations = [tf.lite.Optimize.DEFAULT]\n",
        "tflite_model = converter.convert()\n",
        "\n",
        "tflite_model_name= \"derma_final_model2\"\n",
        "# Save the model.\n",
        "open(tflite_model_name, \"wb\").write(tflite_model)"
      ]
    }
  ],
  "metadata": {
    "accelerator": "GPU",
    "colab": {
      "provenance": [],
      "mount_file_id": "1U6p7HrmtG0_5-OPxInXkUki6Js0C4G4e",
      "authorship_tag": "ABX9TyO1jvNeRM5IRhc/YJQmvcJI",
      "include_colab_link": true
    },
    "gpuClass": "standard",
    "kernelspec": {
      "display_name": "Python 3",
      "name": "python3"
    },
    "language_info": {
      "name": "python"
    }
  },
  "nbformat": 4,
  "nbformat_minor": 0
}